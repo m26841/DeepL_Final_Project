{
  "nbformat": 4,
  "nbformat_minor": 0,
  "metadata": {
    "colab": {
      "provenance": []
    },
    "kernelspec": {
      "name": "python3",
      "display_name": "Python 3"
    },
    "language_info": {
      "name": "python"
    }
  },
  "cells": [
    {
      "cell_type": "markdown",
      "source": [
        "# Model Generation"
      ],
      "metadata": {
        "id": "QJpfhlkfmcWP"
      }
    },
    {
      "cell_type": "code",
      "execution_count": 2,
      "metadata": {
        "id": "H2kX7VPZuXmf"
      },
      "outputs": [],
      "source": [
        "import numpy\n",
        "import pandas\n",
        "import keras \n",
        "from sklearn.feature_selection import SelectKBest\n",
        "from sklearn.feature_selection import chi2\n",
        "from sklearn.feature_selection import RFE\n",
        "from sklearn.linear_model import LogisticRegression\n",
        "from sklearn.decomposition import PCA\n",
        "from sklearn.ensemble import ExtraTreesClassifier\n",
        "\n",
        "import matplotlib.pyplot as plt\n",
        "\n",
        "from sklearn.model_selection import train_test_split\n",
        "from sklearn.linear_model import LogisticRegression\n",
        "from sklearn.tree import DecisionTreeClassifier\n",
        "from sklearn.neighbors import KNeighborsClassifier\n",
        "from sklearn.discriminant_analysis import LinearDiscriminantAnalysis\n",
        "from sklearn.naive_bayes import GaussianNB\n",
        "from sklearn.svm import SVC\n",
        "from sklearn.svm import LinearSVC\n",
        "from sklearn.linear_model import SGDClassifier\n",
        "from sklearn.metrics import accuracy_score\n",
        "from sklearn.metrics import mean_squared_error\n",
        "\n",
        "from keras.models import Sequential\n",
        "from keras.layers import Dense\n",
        "from keras.layers import Dropout\n",
        "from keras.constraints import maxnorm"
      ]
    },
    {
      "cell_type": "code",
      "source": [
        "from google.colab import drive\n",
        "drive.mount('/gdrive')\n",
        "!ls /gdrive"
      ],
      "metadata": {
        "id": "44o973Wfum_k"
      },
      "execution_count": null,
      "outputs": []
    },
    {
      "cell_type": "code",
      "source": [
        "dataframe = pandas.read_csv(\"composite.csv\")\n",
        "dataframe = dataframe.replace({'?': numpy.nan}).dropna()\n",
        "dataset = dataframe.values\n",
        "\n",
        "X = dataset[:,:63]\n",
        "Y = dataset[:,63] \n",
        "X_Train, X_Test, Y_Train, Y_Test = train_test_split(X, Y, test_size=0.3)\n",
        "\n",
        "model = Sequential()\n",
        "model.add(Dense(28, input_dim=63, activation='relu', kernel_initializer=\"uniform\"))\n",
        "model.add(Dropout(0.2))\n",
        "model.add(Dense(20, activation='relu', kernel_constraint=maxnorm(3), kernel_initializer=\"uniform\"))\n",
        "model.add(Dropout(0.2))\n",
        "model.add(Dense(10, activation='relu', kernel_initializer=\"uniform\"))\n",
        "model.add(Dense(1, activation='sigmoid', kernel_initializer=\"uniform\"))\n",
        "\n",
        "model.compile(loss='binary_crossentropy', optimizer='adam', metrics=['accuracy'])\n",
        "\n",
        "model.fit(X_Train, Y_Train, epochs=300, batch_size=10)\n",
        "\n",
        "scores = model.evaluate(X_Test, Y_Test)\n",
        "print(\"%s: %.2f%%\" % (model.metrics_names[1], scores[1]*100))"
      ],
      "metadata": {
        "id": "NCN18Xdtuab8"
      },
      "execution_count": null,
      "outputs": []
    },
    {
      "cell_type": "markdown",
      "source": [
        "# Experimentation"
      ],
      "metadata": {
        "id": "2qdTqMR_mlx3"
      }
    },
    {
      "cell_type": "code",
      "source": [
        "THRESHOLD = 0.22\n",
        "\n",
        "def categorize_data(dataset):\n",
        "  dataset[dataset <= THRESHOLD] = 0\n",
        "  dataset[dataset > THRESHOLD] = 1\n",
        "  return dataset\n",
        "  \n",
        "def predict_data(filepath, input_headers):\n",
        "  dataframe = pandas.read_csv(filepath, header=None)\n",
        "  dataframe = dataframe.replace({'?': numpy.nan}).dropna()\n",
        "  dataset = dataframe.values\n",
        "\n",
        "  headers = input_headers\n",
        "\n",
        "  size = len(headers)\n",
        "  for i in range(size):\n",
        "    filtered = dataset[i::size]\n",
        "    results = categorize_data(model.predict(filtered, verbose = 0))\n",
        "    print(f\"{headers[i]}: {numpy.count_nonzero(results)}\")"
      ],
      "metadata": {
        "id": "CKHy2dhkgVhO"
      },
      "execution_count": 53,
      "outputs": []
    },
    {
      "cell_type": "code",
      "source": [
        "predict_data(\"/content/age.csv\", ['age20', 'age25', 'age30', 'age35', 'age40', 'age45', 'age50', 'age55', 'age60', 'age65'])"
      ],
      "metadata": {
        "colab": {
          "base_uri": "https://localhost:8080/"
        },
        "id": "irpvHYN8eVSm",
        "outputId": "b9898cbc-9107-4531-c688-1c159a7f20cc"
      },
      "execution_count": 54,
      "outputs": [
        {
          "output_type": "stream",
          "name": "stdout",
          "text": [
            "age20: 16\n",
            "age25: 26\n",
            "age30: 35\n",
            "age35: 43\n",
            "age40: 48\n",
            "age45: 53\n",
            "age50: 55\n",
            "age55: 51\n",
            "age60: 49\n",
            "age65: 46\n"
          ]
        }
      ]
    },
    {
      "cell_type": "code",
      "source": [
        "predict_data(\"/content/education.csv\", ['10th','11th','12th','1st-4th','5th-6th','7th-8th','9th','Assoc-acdm',\n",
        "                                        'Assoc-voc','Bachelors','Doctorate','HS-grad','Masters','Preschool',\n",
        "                                        'Prof-school','Some-college'])"
      ],
      "metadata": {
        "colab": {
          "base_uri": "https://localhost:8080/"
        },
        "id": "3HfWl16shlzy",
        "outputId": "d216a9c7-72a4-42da-aba9-5dd5e73bc69f"
      },
      "execution_count": 55,
      "outputs": [
        {
          "output_type": "stream",
          "name": "stdout",
          "text": [
            "10th: 0\n",
            "11th: 11\n",
            "12th: 24\n",
            "1st-4th: 6\n",
            "5th-6th: 18\n",
            "7th-8th: 23\n",
            "9th: 11\n",
            "Assoc-acdm: 59\n",
            "Assoc-voc: 69\n",
            "Bachelors: 78\n",
            "Doctorate: 173\n",
            "HS-grad: 47\n",
            "Masters: 85\n",
            "Preschool: 0\n",
            "Prof-school: 77\n",
            "Some-college: 61\n"
          ]
        }
      ]
    },
    {
      "cell_type": "code",
      "source": [
        "predict_data(\"/content/gender.csv\", ['Female', 'Male'])"
      ],
      "metadata": {
        "colab": {
          "base_uri": "https://localhost:8080/"
        },
        "id": "iZC2xkQRfl1v",
        "outputId": "f1980279-2401-402c-dba1-d36e9f592ec5"
      },
      "execution_count": 56,
      "outputs": [
        {
          "output_type": "stream",
          "name": "stdout",
          "text": [
            "Female: 34\n",
            "Male: 38\n"
          ]
        }
      ]
    },
    {
      "cell_type": "code",
      "source": [
        "predict_data(\"/content/job.csv\", ['Adm-clerical','Armed-Forces','Craft-repair','Exec-managerial','Farming-fishing',\n",
        "                                  'Handlers-cleaners','Machine-op-inspct','Other-service','Priv-house-serv','Prof-specialty',\n",
        "                                  'Protective-serv','Sales','Tech-support','Transport-moving'])"
      ],
      "metadata": {
        "colab": {
          "base_uri": "https://localhost:8080/"
        },
        "id": "oIBDqMW2i8C3",
        "outputId": "da0267e1-447e-43a8-804c-49fc391a2722"
      },
      "execution_count": 57,
      "outputs": [
        {
          "output_type": "stream",
          "name": "stdout",
          "text": [
            "Adm-clerical: 42\n",
            "Armed-Forces: 59\n",
            "Craft-repair: 29\n",
            "Exec-managerial: 65\n",
            "Farming-fishing: 15\n",
            "Handlers-cleaners: 13\n",
            "Machine-op-inspct: 14\n",
            "Other-service: 12\n",
            "Priv-house-serv: 0\n",
            "Prof-specialty: 103\n",
            "Protective-serv: 30\n",
            "Sales: 35\n",
            "Tech-support: 46\n",
            "Transport-moving: 38\n"
          ]
        }
      ]
    },
    {
      "cell_type": "code",
      "source": [
        "predict_data(\"/content/marital.csv\", ['Divorced','Married-AF-spouse','Married-civ-spouse',\n",
        "                                      'Married-spouse-absent','Never-married','Separated','Widowed'])"
      ],
      "metadata": {
        "colab": {
          "base_uri": "https://localhost:8080/"
        },
        "id": "ctNqNyI1i8s0",
        "outputId": "be7e4a30-615c-43db-f445-c489971dd910"
      },
      "execution_count": 58,
      "outputs": [
        {
          "output_type": "stream",
          "name": "stdout",
          "text": [
            "Divorced: 32\n",
            "Married-AF-spouse: 59\n",
            "Married-civ-spouse: 68\n",
            "Married-spouse-absent: 24\n",
            "Never-married: 16\n",
            "Separated: 9\n",
            "Widowed: 33\n"
          ]
        }
      ]
    },
    {
      "cell_type": "code",
      "source": [
        "predict_data(\"/content/race.csv\", ['Amer-Indian-Eskimo', 'Asian-Pac-Islander', 'Black', 'Other', 'White'])"
      ],
      "metadata": {
        "colab": {
          "base_uri": "https://localhost:8080/"
        },
        "id": "HMmC1oODcIR0",
        "outputId": "1b9db694-d3c4-4567-8d60-82132dba06a5"
      },
      "execution_count": 59,
      "outputs": [
        {
          "output_type": "stream",
          "name": "stdout",
          "text": [
            "Amer-Indian-Eskimo: 0\n",
            "Asian-Pac-Islander: 67\n",
            "Black: 38\n",
            "Other: 72\n",
            "White: 61\n"
          ]
        }
      ]
    },
    {
      "cell_type": "code",
      "source": [
        "predict_data(\"/content/relationship.csv\", ['Husband','Not-in-family','Other-relative','Own-child','Unmarried','Wife'])"
      ],
      "metadata": {
        "colab": {
          "base_uri": "https://localhost:8080/"
        },
        "id": "QruvEqvkhirK",
        "outputId": "1d76ced7-4b9f-4f5f-8d42-fb8775da741e"
      },
      "execution_count": 60,
      "outputs": [
        {
          "output_type": "stream",
          "name": "stdout",
          "text": [
            "Husband: 37\n",
            "Not-in-family: 39\n",
            "Other-relative: 7\n",
            "Own-child: 14\n",
            "Unmarried: 11\n",
            "Wife: 119\n"
          ]
        }
      ]
    },
    {
      "cell_type": "code",
      "source": [
        "predict_data(\"/content/workclass.csv\", ['Federal-govpay','Local-gov','Private','Self-emp-inc','Self-emp-not-inc',\n",
        "                                        'State-gov','Without-pay'])"
      ],
      "metadata": {
        "colab": {
          "base_uri": "https://localhost:8080/"
        },
        "id": "LGJKJA0ti9Vj",
        "outputId": "238d41e4-1a5c-4167-acc6-d06b8d77dc17"
      },
      "execution_count": 61,
      "outputs": [
        {
          "output_type": "stream",
          "name": "stdout",
          "text": [
            "Federal-govpay: 50\n",
            "Local-gov: 55\n",
            "Private: 31\n",
            "Self-emp-inc: 40\n",
            "Self-emp-not-inc: 58\n",
            "State-gov: 14\n",
            "Without-pay: 12\n"
          ]
        }
      ]
    }
  ]
}