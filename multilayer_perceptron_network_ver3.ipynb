{
  "nbformat": 4,
  "nbformat_minor": 0,
  "metadata": {
    "colab": {
      "provenance": []
    },
    "kernelspec": {
      "name": "python3",
      "display_name": "Python 3"
    },
    "language_info": {
      "name": "python"
    }
  },
  "cells": [
    {
      "cell_type": "markdown",
      "source": [
        "# Model Generation"
      ],
      "metadata": {
        "id": "QJpfhlkfmcWP"
      }
    },
    {
      "cell_type": "code",
      "execution_count": 2,
      "metadata": {
        "id": "H2kX7VPZuXmf"
      },
      "outputs": [],
      "source": [
        "import numpy\n",
        "import pandas\n",
        "import keras \n",
        "from sklearn.feature_selection import SelectKBest\n",
        "from sklearn.feature_selection import chi2\n",
        "from sklearn.feature_selection import RFE\n",
        "from sklearn.linear_model import LogisticRegression\n",
        "from sklearn.decomposition import PCA\n",
        "from sklearn.ensemble import ExtraTreesClassifier\n",
        "\n",
        "import matplotlib.pyplot as plt\n",
        "\n",
        "from sklearn.model_selection import train_test_split\n",
        "from sklearn.linear_model import LogisticRegression\n",
        "from sklearn.tree import DecisionTreeClassifier\n",
        "from sklearn.neighbors import KNeighborsClassifier\n",
        "from sklearn.discriminant_analysis import LinearDiscriminantAnalysis\n",
        "from sklearn.naive_bayes import GaussianNB\n",
        "from sklearn.svm import SVC\n",
        "from sklearn.svm import LinearSVC\n",
        "from sklearn.linear_model import SGDClassifier\n",
        "from sklearn.metrics import accuracy_score\n",
        "from sklearn.metrics import mean_squared_error\n",
        "\n",
        "from keras.models import Sequential\n",
        "from keras.layers import Dense\n",
        "from keras.layers import Dropout\n",
        "from keras.constraints import maxnorm"
      ]
    },
    {
      "cell_type": "code",
      "source": [
        "from google.colab import drive\n",
        "drive.mount('/gdrive')\n",
        "!ls /gdrive"
      ],
      "metadata": {
        "id": "44o973Wfum_k"
      },
      "execution_count": null,
      "outputs": []
    },
    {
      "cell_type": "code",
      "source": [
        "dataframe = pandas.read_csv(\"composite.csv\")\n",
        "dataframe = dataframe.replace({'?': numpy.nan}).dropna()\n",
        "dataset = dataframe.values\n",
        "\n",
        "X = dataset[:,:63]\n",
        "Y = dataset[:,63] \n",
        "X_Train, X_Test, Y_Train, Y_Test = train_test_split(X, Y, test_size=0.3)\n",
        "\n",
        "model = Sequential()\n",
        "model.add(Dense(28, input_dim=63, activation='relu', kernel_initializer=\"uniform\"))\n",
        "model.add(Dropout(0.2))\n",
        "model.add(Dense(20, activation='relu', kernel_constraint=maxnorm(3), kernel_initializer=\"uniform\"))\n",
        "model.add(Dropout(0.2))\n",
        "model.add(Dense(10, activation='relu', kernel_initializer=\"uniform\"))\n",
        "model.add(Dense(1, activation='sigmoid', kernel_initializer=\"uniform\"))\n",
        "\n",
        "model.compile(loss='binary_crossentropy', optimizer='adam', metrics=['accuracy'])\n",
        "\n",
        "model.fit(X_Train, Y_Train, epochs=300, batch_size=10)\n",
        "\n",
        "scores = model.evaluate(X_Test, Y_Test)\n",
        "print(\"%s: %.2f%%\" % (model.metrics_names[1], scores[1]*100))"
      ],
      "metadata": {
        "id": "NCN18Xdtuab8"
      },
      "execution_count": null,
      "outputs": []
    },
    {
      "cell_type": "markdown",
      "source": [
        "# Experimentation"
      ],
      "metadata": {
        "id": "2qdTqMR_mlx3"
      }
    },
    {
      "cell_type": "markdown",
      "source": [
        "## Data Generation"
      ],
      "metadata": {
        "id": "S_XO2udMp3Ix"
      }
    },
    {
      "cell_type": "code",
      "source": [
        "import random as r\n",
        "import pandas as pd\n",
        "\n",
        "NUM_GROUPS = 500\n",
        "\n",
        "def random_age_gen():\n",
        "    return [r.randint(18, 65)]\n",
        "\n",
        "def random_nominal(size):\n",
        "    output = [0] * size\n",
        "    output[r.randint(0, size - 1)] = 1\n",
        "    return output\n",
        "\n",
        "def generate_age_data():\n",
        "    total_data = []\n",
        "    for i in range(NUM_GROUPS):\n",
        "        constant = [0, 0, 40, 0] + \\\n",
        "                   random_nominal(7) + \\\n",
        "                   random_nominal(16) + \\\n",
        "                   random_nominal(7) + [0] + \\\n",
        "                   random_nominal(14) + \\\n",
        "                   random_nominal(6) + \\\n",
        "                   random_nominal(5) + \\\n",
        "                   random_nominal(2)\n",
        "        for age in range(20, 66, 5):\n",
        "            data = [age] + constant\n",
        "            total_data.append(data)\n",
        "    with open(\"/content/age.csv\", 'w') as f:\n",
        "      pd.DataFrame(total_data).to_csv(f, index=False, header=False)\n",
        "\n",
        "def generate_workclass_data():\n",
        "    total_data = []\n",
        "    for i in range(NUM_GROUPS):\n",
        "        constantA = random_age_gen() + \\\n",
        "                    [0, 0, 40, 0]\n",
        "\n",
        "        constantB = random_nominal(16) + \\\n",
        "                    random_nominal(7) + [0] + \\\n",
        "                    random_nominal(14) + \\\n",
        "                    random_nominal(6) + \\\n",
        "                    random_nominal(5) + \\\n",
        "                    random_nominal(2)\n",
        "        for i in range(0, 7):\n",
        "            onehot = [0] * 7\n",
        "            onehot[i] = 1\n",
        "            data = constantA + onehot + constantB\n",
        "            total_data.append(data)\n",
        "    with open(\"/content/workclass.csv\", 'w') as f:\n",
        "      pd.DataFrame(total_data).to_csv(f, index=False, header=False)\n",
        "\n",
        "def generate_education_data():\n",
        "    total_data = []\n",
        "    for i in range(NUM_GROUPS):\n",
        "        constantA = random_age_gen() + \\\n",
        "                    [0, 0, 40, 0] + \\\n",
        "                    random_nominal(7)\n",
        "\n",
        "        constantB = random_nominal(7) + [0] + \\\n",
        "                    random_nominal(14) + \\\n",
        "                    random_nominal(6) + \\\n",
        "                    random_nominal(5) + \\\n",
        "                    random_nominal(2)\n",
        "        for i in range(0, 16):\n",
        "            onehot = [0] * 16\n",
        "            onehot[i] = 1\n",
        "            data = constantA + onehot + constantB\n",
        "            total_data.append(data)\n",
        "    with open(\"/content/education.csv\", 'w') as f:\n",
        "      pd.DataFrame(total_data).to_csv(f, index=False, header=False)\n",
        "\n",
        "def generate_marital_data():\n",
        "    total_data = []\n",
        "    for i in range(NUM_GROUPS):\n",
        "        constantA = random_age_gen() + \\\n",
        "                    [0, 0, 40, 0] + \\\n",
        "                    random_nominal(7) + \\\n",
        "                    random_nominal(16)\n",
        "\n",
        "        constantB = [0] + \\\n",
        "                    random_nominal(14) + \\\n",
        "                    random_nominal(6) + \\\n",
        "                    random_nominal(5) + \\\n",
        "                    random_nominal(2)\n",
        "        for i in range(0, 7):\n",
        "            onehot = [0] * 7\n",
        "            onehot[i] = 1\n",
        "            data = constantA + onehot + constantB\n",
        "            total_data.append(data)\n",
        "    with open(\"/content/marital.csv\", 'w') as f:\n",
        "      pd.DataFrame(total_data).to_csv(f, index=False, header=False)\n",
        "\n",
        "def generate_job_data():\n",
        "    total_data = []\n",
        "    for i in range(NUM_GROUPS):\n",
        "        constantA = random_age_gen() + \\\n",
        "                    [0, 0, 40, 0] + \\\n",
        "                    random_nominal(7) + \\\n",
        "                    random_nominal(16) + \\\n",
        "                    random_nominal(7) + [0]\n",
        "\n",
        "        constantB = random_nominal(6) + \\\n",
        "                    random_nominal(5) + \\\n",
        "                    random_nominal(2)\n",
        "        for i in range(0, 14):\n",
        "            onehot = [0] * 14\n",
        "            onehot[i] = 1\n",
        "            data = constantA + onehot + constantB\n",
        "            total_data.append(data)\n",
        "    with open(\"/content/job.csv\", 'w') as f:\n",
        "      pd.DataFrame(total_data).to_csv(f, index=False, header=False)\n",
        "\n",
        "def generate_relationship_data():\n",
        "    total_data = []\n",
        "    for i in range(NUM_GROUPS):\n",
        "        constantA = random_age_gen() + \\\n",
        "                    [0, 0, 40, 0] + \\\n",
        "                    random_nominal(7) + \\\n",
        "                    random_nominal(16) + \\\n",
        "                    random_nominal(7) + [0] + \\\n",
        "                    random_nominal(14)\n",
        "\n",
        "        constantB = random_nominal(5) + \\\n",
        "                    random_nominal(2)\n",
        "        for i in range(0, 6):\n",
        "            onehot = [0] * 6\n",
        "            onehot[i] = 1\n",
        "            data = constantA + onehot + constantB\n",
        "            total_data.append(data)\n",
        "    with open(\"/content/relationship.csv\", 'w') as f:\n",
        "      pd.DataFrame(total_data).to_csv(f, index=False, header=False)\n",
        "\n",
        "def generate_race_data():\n",
        "    total_data = []\n",
        "    for i in range(NUM_GROUPS):\n",
        "        constantA = random_age_gen() + \\\n",
        "                    [0, 0, 40, 0] + \\\n",
        "                    random_nominal(7) + \\\n",
        "                    random_nominal(16) + \\\n",
        "                    random_nominal(7) + [0] + \\\n",
        "                    random_nominal(14) + \\\n",
        "                    random_nominal(6)\n",
        "\n",
        "        constantB = random_nominal(2)\n",
        "        for i in range(0, 5):\n",
        "            onehot = [0] * 5\n",
        "            onehot[i] = 1\n",
        "            data = constantA + onehot + constantB\n",
        "            total_data.append(data)\n",
        "    with open(\"/content/race.csv\", 'w') as f:\n",
        "      pd.DataFrame(total_data).to_csv(f, index=False, header=False)\n",
        "\n",
        "def generate_gender_data():\n",
        "    total_data = []\n",
        "    for i in range(NUM_GROUPS):\n",
        "        constant = random_age_gen() + \\\n",
        "                   [0, 0, 40, 0] + \\\n",
        "                    random_nominal(7) + \\\n",
        "                    random_nominal(16) + \\\n",
        "                    random_nominal(7) + [0] + \\\n",
        "                    random_nominal(14) + \\\n",
        "                    random_nominal(6) + \\\n",
        "                    random_nominal(5)\n",
        "        for i in range(0, 2):\n",
        "            onehot = [0] * 2\n",
        "            onehot[i] = 1\n",
        "            data = constant + onehot\n",
        "            total_data.append(data)\n",
        "    with open(\"/content/gender.csv\", 'w') as f:\n",
        "      pd.DataFrame(total_data).to_csv(f, index=False, header=False)\n",
        "\n",
        "generate_age_data()\n",
        "generate_workclass_data()\n",
        "generate_education_data()\n",
        "generate_marital_data()\n",
        "generate_job_data()\n",
        "generate_relationship_data()\n",
        "generate_race_data()\n",
        "generate_gender_data()"
      ],
      "metadata": {
        "id": "Cpv5XOvfn61k"
      },
      "execution_count": 70,
      "outputs": []
    },
    {
      "cell_type": "markdown",
      "source": [
        "## Predictions"
      ],
      "metadata": {
        "id": "mECq7clrp7sj"
      }
    },
    {
      "cell_type": "code",
      "source": [
        "THRESHOLD = 0.22\n",
        "\n",
        "def categorize_data(dataset):\n",
        "  dataset[dataset <= THRESHOLD] = 0\n",
        "  dataset[dataset > THRESHOLD] = 1\n",
        "  return dataset\n",
        "  \n",
        "def predict_data(filepath, input_headers):\n",
        "  dataframe = pandas.read_csv(filepath, header=None)\n",
        "  dataframe = dataframe.replace({'?': numpy.nan}).dropna()\n",
        "  dataset = dataframe.values\n",
        "\n",
        "  headers = input_headers\n",
        "\n",
        "  size = len(headers)\n",
        "  for i in range(size):\n",
        "    filtered = dataset[i::size]\n",
        "    results = categorize_data(model.predict(filtered, verbose = 0))\n",
        "    print(f\"{headers[i]}: {numpy.count_nonzero(results)}\")"
      ],
      "metadata": {
        "id": "CKHy2dhkgVhO"
      },
      "execution_count": 71,
      "outputs": []
    },
    {
      "cell_type": "code",
      "source": [
        "predict_data(\"/content/age.csv\", ['age20', 'age25', 'age30', 'age35', 'age40', 'age45', 'age50', 'age55', 'age60', 'age65'])"
      ],
      "metadata": {
        "colab": {
          "base_uri": "https://localhost:8080/"
        },
        "id": "irpvHYN8eVSm",
        "outputId": "7303c5f2-3597-4dd4-841a-182d9eb2a9d5"
      },
      "execution_count": 72,
      "outputs": [
        {
          "output_type": "stream",
          "name": "stdout",
          "text": [
            "age20: 17\n",
            "age25: 33\n",
            "age30: 41\n",
            "age35: 47\n",
            "age40: 56\n",
            "age45: 60\n",
            "age50: 60\n",
            "age55: 55\n",
            "age60: 49\n",
            "age65: 45\n"
          ]
        }
      ]
    },
    {
      "cell_type": "code",
      "source": [
        "predict_data(\"/content/education.csv\", ['10th','11th','12th','1st-4th','5th-6th','7th-8th','9th','Assoc-acdm',\n",
        "                                        'Assoc-voc','Bachelors','Doctorate','HS-grad','Masters','Preschool',\n",
        "                                        'Prof-school','Some-college'])"
      ],
      "metadata": {
        "colab": {
          "base_uri": "https://localhost:8080/"
        },
        "id": "3HfWl16shlzy",
        "outputId": "26c64dd3-d500-42af-8151-38e7cadc7a5e"
      },
      "execution_count": 73,
      "outputs": [
        {
          "output_type": "stream",
          "name": "stdout",
          "text": [
            "10th: 0\n",
            "11th: 8\n",
            "12th: 8\n",
            "1st-4th: 5\n",
            "5th-6th: 12\n",
            "7th-8th: 18\n",
            "9th: 7\n",
            "Assoc-acdm: 43\n",
            "Assoc-voc: 47\n",
            "Bachelors: 62\n",
            "Doctorate: 152\n",
            "HS-grad: 32\n",
            "Masters: 69\n",
            "Preschool: 0\n",
            "Prof-school: 68\n",
            "Some-college: 53\n"
          ]
        }
      ]
    },
    {
      "cell_type": "code",
      "source": [
        "predict_data(\"/content/gender.csv\", ['Female', 'Male'])"
      ],
      "metadata": {
        "colab": {
          "base_uri": "https://localhost:8080/"
        },
        "id": "iZC2xkQRfl1v",
        "outputId": "31232a6f-90ad-4d76-ecc4-460b7b262cb8"
      },
      "execution_count": 74,
      "outputs": [
        {
          "output_type": "stream",
          "name": "stdout",
          "text": [
            "Female: 46\n",
            "Male: 52\n"
          ]
        }
      ]
    },
    {
      "cell_type": "code",
      "source": [
        "predict_data(\"/content/job.csv\", ['Adm-clerical','Armed-Forces','Craft-repair','Exec-managerial','Farming-fishing',\n",
        "                                  'Handlers-cleaners','Machine-op-inspct','Other-service','Priv-house-serv','Prof-specialty',\n",
        "                                  'Protective-serv','Sales','Tech-support','Transport-moving'])"
      ],
      "metadata": {
        "colab": {
          "base_uri": "https://localhost:8080/"
        },
        "id": "oIBDqMW2i8C3",
        "outputId": "6d36903e-76f0-4827-c682-3d52d9907145"
      },
      "execution_count": 75,
      "outputs": [
        {
          "output_type": "stream",
          "name": "stdout",
          "text": [
            "Adm-clerical: 46\n",
            "Armed-Forces: 62\n",
            "Craft-repair: 36\n",
            "Exec-managerial: 64\n",
            "Farming-fishing: 19\n",
            "Handlers-cleaners: 22\n",
            "Machine-op-inspct: 19\n",
            "Other-service: 16\n",
            "Priv-house-serv: 0\n",
            "Prof-specialty: 109\n",
            "Protective-serv: 33\n",
            "Sales: 41\n",
            "Tech-support: 53\n",
            "Transport-moving: 40\n"
          ]
        }
      ]
    },
    {
      "cell_type": "code",
      "source": [
        "predict_data(\"/content/marital.csv\", ['Divorced','Married-AF-spouse','Married-civ-spouse',\n",
        "                                      'Married-spouse-absent','Never-married','Separated','Widowed'])"
      ],
      "metadata": {
        "colab": {
          "base_uri": "https://localhost:8080/"
        },
        "id": "ctNqNyI1i8s0",
        "outputId": "d291f154-4f77-4a49-b03e-f53abf946eac"
      },
      "execution_count": 76,
      "outputs": [
        {
          "output_type": "stream",
          "name": "stdout",
          "text": [
            "Divorced: 31\n",
            "Married-AF-spouse: 69\n",
            "Married-civ-spouse: 82\n",
            "Married-spouse-absent: 25\n",
            "Never-married: 15\n",
            "Separated: 10\n",
            "Widowed: 34\n"
          ]
        }
      ]
    },
    {
      "cell_type": "code",
      "source": [
        "predict_data(\"/content/race.csv\", ['Amer-Indian-Eskimo', 'Asian-Pac-Islander', 'Black', 'Other', 'White'])"
      ],
      "metadata": {
        "colab": {
          "base_uri": "https://localhost:8080/"
        },
        "id": "HMmC1oODcIR0",
        "outputId": "447dd683-107a-496d-d840-012d8753c51b"
      },
      "execution_count": 77,
      "outputs": [
        {
          "output_type": "stream",
          "name": "stdout",
          "text": [
            "Amer-Indian-Eskimo: 0\n",
            "Asian-Pac-Islander: 56\n",
            "Black: 37\n",
            "Other: 72\n",
            "White: 59\n"
          ]
        }
      ]
    },
    {
      "cell_type": "code",
      "source": [
        "predict_data(\"/content/relationship.csv\", ['Husband','Not-in-family','Other-relative','Own-child','Unmarried','Wife'])"
      ],
      "metadata": {
        "colab": {
          "base_uri": "https://localhost:8080/"
        },
        "id": "QruvEqvkhirK",
        "outputId": "6c3b1bd4-d7b0-4547-b694-d9f61a2cb060"
      },
      "execution_count": 78,
      "outputs": [
        {
          "output_type": "stream",
          "name": "stdout",
          "text": [
            "Husband: 42\n",
            "Not-in-family: 43\n",
            "Other-relative: 5\n",
            "Own-child: 10\n",
            "Unmarried: 11\n",
            "Wife: 126\n"
          ]
        }
      ]
    },
    {
      "cell_type": "code",
      "source": [
        "predict_data(\"/content/workclass.csv\", ['Federal-govpay','Local-gov','Private','Self-emp-inc','Self-emp-not-inc',\n",
        "                                        'State-gov','Without-pay'])"
      ],
      "metadata": {
        "colab": {
          "base_uri": "https://localhost:8080/"
        },
        "id": "LGJKJA0ti9Vj",
        "outputId": "c93721da-112c-4242-bda2-8971f2033f91"
      },
      "execution_count": 79,
      "outputs": [
        {
          "output_type": "stream",
          "name": "stdout",
          "text": [
            "Federal-govpay: 60\n",
            "Local-gov: 58\n",
            "Private: 30\n",
            "Self-emp-inc: 49\n",
            "Self-emp-not-inc: 52\n",
            "State-gov: 15\n",
            "Without-pay: 11\n"
          ]
        }
      ]
    }
  ]
}