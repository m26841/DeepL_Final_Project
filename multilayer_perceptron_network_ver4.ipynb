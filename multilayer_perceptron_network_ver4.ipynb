{
  "nbformat": 4,
  "nbformat_minor": 0,
  "metadata": {
    "colab": {
      "provenance": []
    },
    "kernelspec": {
      "name": "python3",
      "display_name": "Python 3"
    },
    "language_info": {
      "name": "python"
    },
    "accelerator": "GPU",
    "gpuClass": "standard"
  },
  "cells": [
    {
      "cell_type": "markdown",
      "source": [
        "# Model Generation"
      ],
      "metadata": {
        "id": "QJpfhlkfmcWP"
      }
    },
    {
      "cell_type": "code",
      "execution_count": null,
      "metadata": {
        "id": "H2kX7VPZuXmf"
      },
      "outputs": [],
      "source": [
        "import numpy\n",
        "import pandas\n",
        "import keras \n",
        "from sklearn.feature_selection import SelectKBest\n",
        "from sklearn.feature_selection import chi2\n",
        "from sklearn.feature_selection import RFE\n",
        "from sklearn.linear_model import LogisticRegression\n",
        "from sklearn.decomposition import PCA\n",
        "from sklearn.ensemble import ExtraTreesClassifier\n",
        "\n",
        "import matplotlib.pyplot as plt\n",
        "\n",
        "from sklearn.model_selection import train_test_split\n",
        "from sklearn.linear_model import LogisticRegression\n",
        "from sklearn.tree import DecisionTreeClassifier\n",
        "from sklearn.neighbors import KNeighborsClassifier\n",
        "from sklearn.discriminant_analysis import LinearDiscriminantAnalysis\n",
        "from sklearn.naive_bayes import GaussianNB\n",
        "from sklearn.svm import SVC\n",
        "from sklearn.svm import LinearSVC\n",
        "from sklearn.linear_model import SGDClassifier\n",
        "from sklearn.metrics import accuracy_score\n",
        "from sklearn.metrics import mean_squared_error\n",
        "\n",
        "from keras.models import Sequential\n",
        "from keras.layers import Dense\n",
        "from keras.layers import Dropout\n",
        "from keras.constraints import maxnorm"
      ]
    },
    {
      "cell_type": "code",
      "source": [
        "from google.colab import drive\n",
        "drive.mount('/gdrive')\n",
        "!ls /gdrive"
      ],
      "metadata": {
        "id": "44o973Wfum_k"
      },
      "execution_count": null,
      "outputs": []
    },
    {
      "cell_type": "code",
      "source": [
        "dataframe = pandas.read_csv(\"composite.csv\")\n",
        "dataframe = dataframe.replace({'?': numpy.nan}).dropna()\n",
        "dataset = dataframe.values\n",
        "\n",
        "X = dataset[:,:63]\n",
        "Y = dataset[:,63] \n",
        "X_Train, X_Test, Y_Train, Y_Test = train_test_split(X, Y, test_size=0.3)\n",
        "\n",
        "model = Sequential()\n",
        "model.add(Dense(28, input_dim=63, activation='relu', kernel_initializer=\"uniform\"))\n",
        "model.add(Dropout(0.2))\n",
        "model.add(Dense(20, activation='relu', kernel_constraint=maxnorm(3), kernel_initializer=\"uniform\"))\n",
        "model.add(Dropout(0.2))\n",
        "model.add(Dense(10, activation='relu', kernel_initializer=\"uniform\"))\n",
        "model.add(Dense(1, activation='sigmoid', kernel_initializer=\"uniform\"))\n",
        "\n",
        "model.compile(loss='binary_crossentropy', optimizer='adam', metrics=['accuracy'])\n",
        "\n",
        "model.fit(X_Train, Y_Train, epochs=300, batch_size=10)\n",
        "\n",
        "scores = model.evaluate(X_Test, Y_Test)\n",
        "print(\"%s: %.2f%%\" % (model.metrics_names[1], scores[1]*100))"
      ],
      "metadata": {
        "id": "NCN18Xdtuab8"
      },
      "execution_count": null,
      "outputs": []
    },
    {
      "cell_type": "markdown",
      "source": [
        "# Experimentation"
      ],
      "metadata": {
        "id": "2qdTqMR_mlx3"
      }
    },
    {
      "cell_type": "markdown",
      "source": [
        "## Data Generation"
      ],
      "metadata": {
        "id": "S_XO2udMp3Ix"
      }
    },
    {
      "cell_type": "code",
      "source": [
        "import random as r\n",
        "import pandas as pd\n",
        "\n",
        "NUM_GROUPS = 10000\n",
        "\n",
        "def random_age_gen():\n",
        "    return [r.randint(18, 65)]\n",
        "\n",
        "def random_nominal(size):\n",
        "    output = [0] * size\n",
        "    output[r.randint(0, size - 1)] = 1\n",
        "    return output\n",
        "\n",
        "def generate_age_data():\n",
        "    total_data = []\n",
        "    for i in range(NUM_GROUPS):\n",
        "        constant = [0, 0, 40, 0] + \\\n",
        "                   random_nominal(7) + \\\n",
        "                   random_nominal(16) + \\\n",
        "                   random_nominal(7) + [0] + \\\n",
        "                   random_nominal(14) + \\\n",
        "                   random_nominal(6) + \\\n",
        "                   random_nominal(5) + \\\n",
        "                   random_nominal(2)\n",
        "        for age in range(20, 66, 5):\n",
        "            data = [age] + constant\n",
        "            total_data.append(data)\n",
        "    with open(\"/content/age.csv\", 'w') as f:\n",
        "      pd.DataFrame(total_data).to_csv(f, index=False, header=False)\n",
        "\n",
        "def generate_workclass_data():\n",
        "    total_data = []\n",
        "    for i in range(NUM_GROUPS):\n",
        "        constantA = random_age_gen() + \\\n",
        "                    [0, 0, 40, 0]\n",
        "\n",
        "        constantB = random_nominal(16) + \\\n",
        "                    random_nominal(7) + [0] + \\\n",
        "                    random_nominal(14) + \\\n",
        "                    random_nominal(6) + \\\n",
        "                    random_nominal(5) + \\\n",
        "                    random_nominal(2)\n",
        "        for i in range(0, 7):\n",
        "            onehot = [0] * 7\n",
        "            onehot[i] = 1\n",
        "            data = constantA + onehot + constantB\n",
        "            total_data.append(data)\n",
        "    with open(\"/content/workclass.csv\", 'w') as f:\n",
        "      pd.DataFrame(total_data).to_csv(f, index=False, header=False)\n",
        "\n",
        "def generate_education_data():\n",
        "    total_data = []\n",
        "    for i in range(NUM_GROUPS):\n",
        "        constantA = random_age_gen() + \\\n",
        "                    [0, 0, 40, 0] + \\\n",
        "                    random_nominal(7)\n",
        "\n",
        "        constantB = random_nominal(7) + [0] + \\\n",
        "                    random_nominal(14) + \\\n",
        "                    random_nominal(6) + \\\n",
        "                    random_nominal(5) + \\\n",
        "                    random_nominal(2)\n",
        "        for i in range(0, 16):\n",
        "            onehot = [0] * 16\n",
        "            onehot[i] = 1\n",
        "            data = constantA + onehot + constantB\n",
        "            total_data.append(data)\n",
        "    with open(\"/content/education.csv\", 'w') as f:\n",
        "      pd.DataFrame(total_data).to_csv(f, index=False, header=False)\n",
        "\n",
        "def generate_marital_data():\n",
        "    total_data = []\n",
        "    for i in range(NUM_GROUPS):\n",
        "        constantA = random_age_gen() + \\\n",
        "                    [0, 0, 40, 0] + \\\n",
        "                    random_nominal(7) + \\\n",
        "                    random_nominal(16)\n",
        "\n",
        "        constantB = [0] + \\\n",
        "                    random_nominal(14) + \\\n",
        "                    random_nominal(6) + \\\n",
        "                    random_nominal(5) + \\\n",
        "                    random_nominal(2)\n",
        "        for i in range(0, 7):\n",
        "            onehot = [0] * 7\n",
        "            onehot[i] = 1\n",
        "            data = constantA + onehot + constantB\n",
        "            total_data.append(data)\n",
        "    with open(\"/content/marital.csv\", 'w') as f:\n",
        "      pd.DataFrame(total_data).to_csv(f, index=False, header=False)\n",
        "\n",
        "def generate_job_data():\n",
        "    total_data = []\n",
        "    for i in range(NUM_GROUPS):\n",
        "        constantA = random_age_gen() + \\\n",
        "                    [0, 0, 40, 0] + \\\n",
        "                    random_nominal(7) + \\\n",
        "                    random_nominal(16) + \\\n",
        "                    random_nominal(7) + [0]\n",
        "\n",
        "        constantB = random_nominal(6) + \\\n",
        "                    random_nominal(5) + \\\n",
        "                    random_nominal(2)\n",
        "        for i in range(0, 14):\n",
        "            onehot = [0] * 14\n",
        "            onehot[i] = 1\n",
        "            data = constantA + onehot + constantB\n",
        "            total_data.append(data)\n",
        "    with open(\"/content/job.csv\", 'w') as f:\n",
        "      pd.DataFrame(total_data).to_csv(f, index=False, header=False)\n",
        "\n",
        "def generate_relationship_data():\n",
        "    total_data = []\n",
        "    for i in range(NUM_GROUPS):\n",
        "        constantA = random_age_gen() + \\\n",
        "                    [0, 0, 40, 0] + \\\n",
        "                    random_nominal(7) + \\\n",
        "                    random_nominal(16) + \\\n",
        "                    random_nominal(7) + [0] + \\\n",
        "                    random_nominal(14)\n",
        "\n",
        "        constantB = random_nominal(5) + \\\n",
        "                    random_nominal(2)\n",
        "        for i in range(0, 6):\n",
        "            onehot = [0] * 6\n",
        "            onehot[i] = 1\n",
        "            data = constantA + onehot + constantB\n",
        "            total_data.append(data)\n",
        "    with open(\"/content/relationship.csv\", 'w') as f:\n",
        "      pd.DataFrame(total_data).to_csv(f, index=False, header=False)\n",
        "\n",
        "def generate_race_data():\n",
        "    total_data = []\n",
        "    for i in range(NUM_GROUPS):\n",
        "        constantA = random_age_gen() + \\\n",
        "                    [0, 0, 40, 0] + \\\n",
        "                    random_nominal(7) + \\\n",
        "                    random_nominal(16) + \\\n",
        "                    random_nominal(7) + [0] + \\\n",
        "                    random_nominal(14) + \\\n",
        "                    random_nominal(6)\n",
        "\n",
        "        constantB = random_nominal(2)\n",
        "        for i in range(0, 5):\n",
        "            onehot = [0] * 5\n",
        "            onehot[i] = 1\n",
        "            data = constantA + onehot + constantB\n",
        "            total_data.append(data)\n",
        "    with open(\"/content/race.csv\", 'w') as f:\n",
        "      pd.DataFrame(total_data).to_csv(f, index=False, header=False)\n",
        "\n",
        "def generate_gender_data():\n",
        "    total_data = []\n",
        "    for i in range(NUM_GROUPS):\n",
        "        constant = random_age_gen() + \\\n",
        "                   [0, 0, 40, 0] + \\\n",
        "                    random_nominal(7) + \\\n",
        "                    random_nominal(16) + \\\n",
        "                    random_nominal(7) + [0] + \\\n",
        "                    random_nominal(14) + \\\n",
        "                    random_nominal(6) + \\\n",
        "                    random_nominal(5)\n",
        "        for i in range(0, 2):\n",
        "            onehot = [0] * 2\n",
        "            onehot[i] = 1\n",
        "            data = constant + onehot\n",
        "            total_data.append(data)\n",
        "    with open(\"/content/gender.csv\", 'w') as f:\n",
        "      pd.DataFrame(total_data).to_csv(f, index=False, header=False)\n",
        "\n",
        "def generate_new_datasets():\n",
        "  generate_age_data()\n",
        "  generate_workclass_data()\n",
        "  generate_education_data()\n",
        "  generate_marital_data()\n",
        "  generate_job_data()\n",
        "  generate_relationship_data()\n",
        "  generate_race_data()\n",
        "  generate_gender_data()\n",
        "\n",
        "generate_new_datasets()"
      ],
      "metadata": {
        "id": "Cpv5XOvfn61k"
      },
      "execution_count": null,
      "outputs": []
    },
    {
      "cell_type": "markdown",
      "source": [
        "## Predictions"
      ],
      "metadata": {
        "id": "mECq7clrp7sj"
      }
    },
    {
      "cell_type": "code",
      "source": [
        "THRESHOLD = 0.22\n",
        "\n",
        "def categorize_data(dataset):\n",
        "  dataset[dataset <= THRESHOLD] = 0\n",
        "  dataset[dataset > THRESHOLD] = 1\n",
        "  return dataset\n",
        "  \n",
        "def predict_data(filepath, input_headers):\n",
        "  dataframe = pandas.read_csv(filepath, header=None)\n",
        "  dataframe = dataframe.replace({'?': numpy.nan}).dropna()\n",
        "  dataset = dataframe.values\n",
        "\n",
        "  output_data = {}\n",
        "\n",
        "  size = len(input_headers)\n",
        "  for i in range(size):\n",
        "    filtered = dataset[i::size]\n",
        "    results = categorize_data(model.predict(filtered, verbose = 0))\n",
        "\n",
        "    header = input_headers[i]\n",
        "    count = numpy.count_nonzero(results)\n",
        "    ratio = (count / NUM_GROUPS)\n",
        "    output_data[header] = ratio\n",
        "    # print(f\"{header}: {count} ({ratio})\")\n",
        "  \n",
        "  return output_data\n",
        "\n",
        "def plot_data(data):\n",
        "  names = list(data.keys())\n",
        "  values = list(data.values())\n",
        "\n",
        "  plt.bar(range(len(data)), values, tick_label=names)\n",
        "  plt.xticks(rotation=90)\n",
        "  plt.xlabel(\"Categories\")\n",
        "  plt.ylabel(f\"Predicted Ratio Earning >= 50k (out of {NUM_GROUPS})\")\n",
        "  plt.show()"
      ],
      "metadata": {
        "id": "CKHy2dhkgVhO"
      },
      "execution_count": null,
      "outputs": []
    },
    {
      "cell_type": "code",
      "source": [
        "def predict_age():\n",
        "  return predict_data(\"/content/age.csv\", ['age20', 'age25', 'age30', 'age35', 'age40', 'age45', 'age50', 'age55', 'age60', 'age65'])\n",
        "\n",
        "data = predict_age()\n",
        "plot_data(data)"
      ],
      "metadata": {
        "id": "irpvHYN8eVSm"
      },
      "execution_count": null,
      "outputs": []
    },
    {
      "cell_type": "code",
      "source": [
        "def predict_education():\n",
        "  data = predict_data(\"/content/education.csv\", ['10th','11th','12th','1st-4th','5th-6th','7th-8th','9th','Assoc-acdm',\n",
        "                                                'Assoc-voc','Bachelors','Doctorate','HS-grad','Masters','Preschool',\n",
        "                                                'Prof-school','Some-college'])\n",
        "  reorder = ['Preschool','1st-4th','5th-6th','7th-8th','9th','10th','11th','12th','HS-grad','Assoc-acdm','Assoc-voc',\n",
        "            'Bachelors','Masters','Doctorate','Prof-school','Some-college']\n",
        "  return {k: data[k] for k in reorder}\n",
        "\n",
        "data = predict_education()\n",
        "plot_data(data)"
      ],
      "metadata": {
        "id": "3HfWl16shlzy"
      },
      "execution_count": null,
      "outputs": []
    },
    {
      "cell_type": "code",
      "source": [
        "def predict_gender():\n",
        "  return predict_data(\"/content/gender.csv\", ['Female', 'Male'])\n",
        "\n",
        "data = predict_gender()\n",
        "plot_data(data)"
      ],
      "metadata": {
        "id": "iZC2xkQRfl1v"
      },
      "execution_count": null,
      "outputs": []
    },
    {
      "cell_type": "code",
      "source": [
        "def predict_job():\n",
        "  return predict_data(\"/content/job.csv\", ['Adm-clerical','Armed-Forces','Craft-repair','Exec-managerial','Farming-fishing',\n",
        "                                          'Handlers-cleaners','Machine-op-inspct','Other-service','Priv-house-serv','Prof-specialty',\n",
        "                                          'Protective-serv','Sales','Tech-support','Transport-moving'])\n",
        "\n",
        "data = predict_job()\n",
        "plot_data(data)"
      ],
      "metadata": {
        "id": "oIBDqMW2i8C3"
      },
      "execution_count": null,
      "outputs": []
    },
    {
      "cell_type": "code",
      "source": [
        "def predict_marital():\n",
        "  return predict_data(\"/content/marital.csv\", ['Divorced','Married-AF-spouse','Married-civ-spouse',\n",
        "                                              'Married-spouse-absent','Never-married','Separated','Widowed'])\n",
        "\n",
        "data = predict_marital()\n",
        "plot_data(data)"
      ],
      "metadata": {
        "id": "ctNqNyI1i8s0"
      },
      "execution_count": null,
      "outputs": []
    },
    {
      "cell_type": "code",
      "source": [
        "def predict_race():\n",
        "  return predict_data(\"/content/race.csv\", ['Amer-Indian-Eskimo', 'Asian-Pac-Islander', 'Black', 'Other', 'White'])\n",
        "\n",
        "data = predict_race()\n",
        "plot_data(data)"
      ],
      "metadata": {
        "id": "HMmC1oODcIR0"
      },
      "execution_count": null,
      "outputs": []
    },
    {
      "cell_type": "code",
      "source": [
        "def predict_relationship():\n",
        "  return predict_data(\"/content/relationship.csv\", ['Husband','Not-in-family','Other-relative','Own-child','Unmarried','Wife'])\n",
        "\n",
        "data = predict_relationship()\n",
        "plot_data(data)"
      ],
      "metadata": {
        "id": "QruvEqvkhirK"
      },
      "execution_count": null,
      "outputs": []
    },
    {
      "cell_type": "code",
      "source": [
        "def predict_workclass():\n",
        "  return predict_data(\"/content/workclass.csv\", ['Federal-govpay','Local-gov','Private','Self-emp-inc','Self-emp-not-inc',\n",
        "                                          'State-gov','Without-pay'])\n",
        "\n",
        "data = predict_workclass()\n",
        "plot_data(data)"
      ],
      "metadata": {
        "id": "LGJKJA0ti9Vj"
      },
      "execution_count": null,
      "outputs": []
    },
    {
      "cell_type": "code",
      "source": [
        "def merge_dicts(d1, d2):\n",
        "  output = {}\n",
        "  for key, value in d1.items():\n",
        "\n",
        "    if not isinstance(d1[key], list):\n",
        "      output[key] = [d1[key]] + [d2[key]]\n",
        "    else:\n",
        "      output[key] = d1[key] + [d2[key]]\n",
        "  return output\n",
        "\n",
        "def plot_multiple_data(data):\n",
        "  for key, value in data.items():\n",
        "    plt.plot(value)\n",
        "  plt.legend(data.keys(), bbox_to_anchor=(1.05, 1.0), loc='upper left')\n",
        "  plt.show()"
      ],
      "metadata": {
        "id": "oHhX___X_rRA"
      },
      "execution_count": null,
      "outputs": []
    },
    {
      "cell_type": "code",
      "source": [
        "print(\"Generating dataset #1...\")\n",
        "generate_new_datasets()\n",
        "print(\"Predicting...\")\n",
        "age_dict = predict_age()\n",
        "education_dict = predict_education()\n",
        "gender_dict = predict_gender()\n",
        "job_dict = predict_job()\n",
        "marital_dict = predict_marital()\n",
        "race_dict = predict_race()\n",
        "relationship_dict = predict_relationship()\n",
        "workclass_dict = predict_workclass()\n",
        "\n",
        "for trial in range(9):\n",
        "  print(f\"Generating dataset #{trial + 2}...\")\n",
        "  generate_new_datasets()\n",
        "\n",
        "  print(\"Predicting...\")\n",
        "  age_dict = merge_dicts(age_dict, predict_age())\n",
        "  education_dict = merge_dicts(education_dict, predict_education())\n",
        "  gender_dict = merge_dicts(gender_dict, predict_gender())\n",
        "  job_dict = merge_dicts(job_dict, predict_job())\n",
        "  marital_dict = merge_dicts(marital_dict, predict_marital())\n",
        "  race_dict = merge_dicts(race_dict, predict_race())\n",
        "  relationship_dict = merge_dicts(relationship_dict, predict_relationship())\n",
        "  workclass_dict = merge_dicts(workclass_dict, predict_workclass())\n",
        "\n",
        "print(\"Plotting...\")\n",
        "plot_multiple_data(age_dict)\n",
        "plot_multiple_data(education_dict)\n",
        "plot_multiple_data(gender_dict)\n",
        "plot_multiple_data(job_dict)\n",
        "plot_multiple_data(marital_dict)\n",
        "plot_multiple_data(race_dict)\n",
        "plot_multiple_data(relationship_dict)\n",
        "plot_multiple_data(workclass_dict)"
      ],
      "metadata": {
        "id": "cQB81Td58o0a"
      },
      "execution_count": null,
      "outputs": []
    }
  ]
}